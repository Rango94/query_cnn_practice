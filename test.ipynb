{
 "cells": [
  {
   "cell_type": "code",
   "execution_count": 1,
   "metadata": {},
   "outputs": [],
   "source": [
    "import numpy as np"
   ]
  },
  {
   "cell_type": "code",
   "execution_count": 70,
   "metadata": {},
   "outputs": [],
   "source": [
    "a=np.random.random((2,3,5,1))"
   ]
  },
  {
   "cell_type": "code",
   "execution_count": 80,
   "metadata": {},
   "outputs": [],
   "source": [
    "b=np.random.random((1,5))"
   ]
  },
  {
   "cell_type": "code",
   "execution_count": 81,
   "metadata": {},
   "outputs": [
    {
     "data": {
      "text/plain": [
       "(array([[[[0.6791541 ],\n",
       "          [0.98309934],\n",
       "          [0.10780482],\n",
       "          [0.54991685],\n",
       "          [0.46844212]],\n",
       " \n",
       "         [[0.3204061 ],\n",
       "          [0.90617221],\n",
       "          [0.84686495],\n",
       "          [0.18976674],\n",
       "          [0.2816183 ]],\n",
       " \n",
       "         [[0.36796154],\n",
       "          [0.39876124],\n",
       "          [0.42289557],\n",
       "          [0.62169692],\n",
       "          [0.04619268]]],\n",
       " \n",
       " \n",
       "        [[[0.99345434],\n",
       "          [0.22857974],\n",
       "          [0.29900936],\n",
       "          [0.67369983],\n",
       "          [0.37004961]],\n",
       " \n",
       "         [[0.39878958],\n",
       "          [0.57209805],\n",
       "          [0.08600428],\n",
       "          [0.98248443],\n",
       "          [0.68996587]],\n",
       " \n",
       "         [[0.48842028],\n",
       "          [0.52819123],\n",
       "          [0.96526737],\n",
       "          [0.87800457],\n",
       "          [0.3535111 ]]]]),\n",
       " array([[0.92851706, 0.44797334, 0.37560674, 0.09177655, 0.95531808]]))"
      ]
     },
     "execution_count": 81,
     "metadata": {},
     "output_type": "execute_result"
    }
   ],
   "source": [
    "a,b"
   ]
  },
  {
   "cell_type": "code",
   "execution_count": 82,
   "metadata": {},
   "outputs": [],
   "source": [
    "c=np.dot(a,b)"
   ]
  },
  {
   "cell_type": "code",
   "execution_count": 83,
   "metadata": {},
   "outputs": [
    {
     "data": {
      "text/plain": [
       "(2, 3, 5, 5)"
      ]
     },
     "execution_count": 83,
     "metadata": {},
     "output_type": "execute_result"
    }
   ],
   "source": [
    "c.shape"
   ]
  },
  {
   "cell_type": "code",
   "execution_count": 69,
   "metadata": {},
   "outputs": [
    {
     "data": {
      "text/plain": [
       "array([[[2.50725245, 1.65288166, 2.53476961],\n",
       "        [1.71695023, 1.07187017, 1.12317422],\n",
       "        [1.96597967, 1.43988053, 1.97498627]],\n",
       "\n",
       "       [[1.54497082, 1.04276193, 1.80625593],\n",
       "        [2.03907234, 1.17991545, 1.82563263],\n",
       "        [1.86920166, 1.02168381, 1.5521103 ]]])"
      ]
     },
     "execution_count": 69,
     "metadata": {},
     "output_type": "execute_result"
    }
   ],
   "source": [
    "c"
   ]
  },
  {
   "cell_type": "code",
   "execution_count": null,
   "metadata": {},
   "outputs": [],
   "source": []
  }
 ],
 "metadata": {
  "kernelspec": {
   "display_name": "Python 3",
   "language": "python",
   "name": "python3"
  },
  "language_info": {
   "codemirror_mode": {
    "name": "ipython",
    "version": 3
   },
   "file_extension": ".py",
   "mimetype": "text/x-python",
   "name": "python",
   "nbconvert_exporter": "python",
   "pygments_lexer": "ipython3",
   "version": "3.6.4"
  }
 },
 "nbformat": 4,
 "nbformat_minor": 2
}
